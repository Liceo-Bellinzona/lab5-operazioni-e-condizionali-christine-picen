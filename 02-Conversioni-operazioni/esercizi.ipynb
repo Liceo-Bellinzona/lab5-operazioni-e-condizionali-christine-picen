{
 "cells": [
  {
   "cell_type": "markdown",
   "metadata": {},
   "source": [
    "# Paga lorda\n",
    "Scrivere un programma che calcoli e visualizzi la paga lorda di un dipendente a ore. I\n",
    "passaggi da seguire sono i seguenti:\n",
    "1. Ottenere il numero di ore lavorative;\n",
    "2. ottenere retribuzione oraria;\n",
    "3. moltiplicare il numero di ore lavorate per la retribuzione oraria;\n",
    "4. visualizzare il risultato del calcolo eseguito al passaggio 3."
   ]
  },
  {
   "cell_type": "code",
   "execution_count": 2,
   "metadata": {},
   "outputs": [
    {
     "name": "stdout",
     "output_type": "stream",
     "text": [
      "326.83\n",
      "Hai lavorato 14.5 e hai guadagnato 326.83\n"
     ]
    }
   ],
   "source": [
    "ore: float=14.5\n",
    "retribuzione_oraria: float=22.54\n",
    "print(ore*retribuzione_oraria)\n",
    "print(f\"Hai lavorato {ore} e hai guadagnato {ore*retribuzione_oraria}\")"
   ]
  },
  {
   "cell_type": "markdown",
   "metadata": {},
   "source": [
    "# Calcolo della superficie\n",
    "Un acro di terra corrisponde a circa 4046 metri quadrati. Scrivere un programma che chieda\n",
    "all’utente di inserire la superficie di un terreno in metri quadrati e calcoli quindi il numero\n",
    "di acri di quel terreno."
   ]
  },
  {
   "cell_type": "code",
   "execution_count": 3,
   "metadata": {},
   "outputs": [
    {
     "name": "stdout",
     "output_type": "stream",
     "text": [
      "1.2105783489866535\n",
      "La superficie del tuo terreno è 4898 metri quadrati che corrispondono a 19817308 acri\n"
     ]
    }
   ],
   "source": [
    "superficie_terreno: float=4898\n",
    "acro: int=4046\n",
    "print(superficie_terreno/acro)\n",
    "print(f\"La superficie del tuo terreno è {superficie_terreno} metri quadrati che corrispondono a {superficie_terreno*acro} acri\")"
   ]
  },
  {
   "cell_type": "markdown",
   "metadata": {},
   "source": [
    "# Previsioni delle vendite \n",
    "Un’azienda ha determinato che il suo profitto annuale è tipicamente il 23% del totale delle\n",
    "vendite. \n",
    "Scrivere un programma che chieda all’utente di inserire il totale delle vendite previste e visualizzi quindi il profitto che si terrà da questa somma.\n",
    "\n",
    "*Suggerimento: non esiste il tipo di dato 23%. È necessario utilizzare gli operatori di\n",
    "moltiplicazione e divisione per ottenere la percentuale sul totale delle vendite.*\n"
   ]
  },
  {
   "cell_type": "code",
   "execution_count": 1,
   "metadata": {},
   "outputs": [
    {
     "name": "stdout",
     "output_type": "stream",
     "text": [
      "7955.608\n",
      "Il profitto annuale è di 7955.608\n"
     ]
    }
   ],
   "source": [
    "totale_vendite: float=34589.6\n",
    "profitto_annuale: float=23/100*totale_vendite\n",
    "print(profitto_annuale)\n",
    "print(f\"Il profitto annuale è di {profitto_annuale}\")"
   ]
  },
  {
   "cell_type": "markdown",
   "metadata": {},
   "source": [
    "# IVA \n",
    "Scrivere un programma che chieda all’utente di inserire il costo totale di un acquisto al netto\n",
    "di Iva. \n",
    "\n",
    "Si supponga che l’IVA sia pari all’8%. \n",
    "\n",
    "Il programma deve visualizzare il costo totale\n",
    "dell’acquisto al netto di IVA, l’IVA e il costo totale dell’acquisto (quindi IVA compresa)."
   ]
  },
  {
   "cell_type": "code",
   "execution_count": 17,
   "metadata": {},
   "outputs": [
    {
     "name": "stdout",
     "output_type": "stream",
     "text": [
      "3.24\n",
      "43.74\n",
      "Il costo dell'acquisto netto è di 40.5 e l'IVA corrisponde a 3.24, quindi il costo totale dell'acquisto sarà di 43.74\n"
     ]
    }
   ],
   "source": [
    "acquisto_netto: float=40.5\n",
    "IVA: float=8/100*acquisto_netto\n",
    "costo_totale: float=acquisto_netto+IVA\n",
    "print(IVA)\n",
    "print(costo_totale)\n",
    "print(f\"Il costo dell'acquisto netto è di {acquisto_netto} e l'IVA corrisponde a {IVA}, quindi il costo totale dell'acquisto sarà di {costo_totale}\")"
   ]
  },
  {
   "cell_type": "markdown",
   "metadata": {},
   "source": [
    "RICETTA BISCOTTI"
   ]
  },
  {
   "cell_type": "code",
   "execution_count": 6,
   "metadata": {},
   "outputs": [
    {
     "name": "stdout",
     "output_type": "stream",
     "text": [
      "Per ottenere 39.0 biscotti hai bisogno 121.875 grammi di zucchero, 81.25 grammi di burro e 223.4375 grammi di farina.\n"
     ]
    }
   ],
   "source": [
    "quantita_desiderata: float=float(input(f\"Inserisci la quantità di biscotti che desideri ottenere\"))\n",
    "zucchero_48_biscotti: int=150\n",
    "burro_48_biscotti: int=100\n",
    "farina_48_biscotti: int=275\n",
    "\n",
    "zucchero_nuovo: float=150/48*quantita_desiderata\n",
    "burro_nuovo: float=100/48*quantita_desiderata\n",
    "farina_nuovo: float=275/48*quantita_desiderata\n",
    "\n",
    "print(f\"Per ottenere {quantita_desiderata} biscotti hai bisogno {zucchero_nuovo} grammi di zucchero, {burro_nuovo} grammi di burro e {farina_nuovo} grammi di farina.\")\n"
   ]
  },
  {
   "cell_type": "code",
   "execution_count": null,
   "metadata": {},
   "outputs": [],
   "source": []
  }
 ],
 "metadata": {
  "kernelspec": {
   "display_name": "Python 3 (ipykernel)",
   "language": "python",
   "name": "python3"
  }
 },
 "nbformat": 4,
 "nbformat_minor": 2
}
