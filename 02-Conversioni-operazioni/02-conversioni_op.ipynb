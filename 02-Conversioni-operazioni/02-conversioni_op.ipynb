{
 "cells": [
  {
   "cell_type": "markdown",
   "metadata": {},
   "source": [
    "# Dichiarare una variabile specificando il tipo\n",
    "In Python, le variabili non devono essere dichiarate con un tipo specifico. Il tipo di una variabile è determinato al momento dell'assegnazione. Questo è chiamato tipizzazione dinamica.\n",
    "Si può comunque specificare il tipo di una variabile, utilizzando la sintassi `variabile: tipo = valore`. Questo è chiamato tipizzazione statica.\n",
    "\n"
   ]
  },
  {
   "cell_type": "code",
   "execution_count": 10,
   "metadata": {},
   "outputs": [
    {
     "name": "stdout",
     "output_type": "stream",
     "text": [
      "12\n",
      "<class 'int'>\n",
      "ciao\n",
      "<class 'str'>\n",
      "christine\n",
      "<class 'str'>\n",
      "15\n",
      "<class 'int'>\n"
     ]
    }
   ],
   "source": [
    "numero:int=12\n",
    "\n",
    "print(numero)\n",
    "print(type(numero))\n",
    "\n",
    "stringa:str=\"ciao\"\n",
    "print(stringa)\n",
    "print(type(stringa))\n",
    "\n",
    "stringa: str=\"christine\"\n",
    "print(stringa)\n",
    "print(type(stringa))\n",
    "\n",
    "numero: int= 12+3\n",
    "print(numero)\n",
    "print(type(numero))\n",
    "\n"
   ]
  },
  {
   "cell_type": "markdown",
   "metadata": {},
   "source": [
    "# Conversioni (casting)\n",
    "Con python possiamo convertire un tipo di dato in un altro con un'operazione chiamata casting"
   ]
  },
  {
   "cell_type": "markdown",
   "metadata": {},
   "source": [
    "## Casting da intero a stringa\n"
   ]
  },
  {
   "cell_type": "code",
   "execution_count": 11,
   "metadata": {},
   "outputs": [
    {
     "name": "stdout",
     "output_type": "stream",
     "text": [
      "5\n",
      "<class 'int'>\n",
      "5\n",
      "<class 'str'>\n"
     ]
    }
   ],
   "source": [
    "# Creiamo una variabile che contiene un'intero\n",
    "var:int = 5\n",
    "\n",
    "# Convertiamo la variabile da intero a stringa\n",
    "var_str:str = str(var)\n",
    "\n",
    "print(var)\n",
    "print(type(var))\n",
    "print(var_str)\n",
    "print(type(var_str))\n",
    "\n"
   ]
  },
  {
   "cell_type": "markdown",
   "metadata": {},
   "source": [
    "## Da stringa a intero o float"
   ]
  },
  {
   "cell_type": "code",
   "execution_count": 2,
   "metadata": {},
   "outputs": [
    {
     "name": "stdout",
     "output_type": "stream",
     "text": [
      "3\n",
      "<class 'str'>\n",
      "3\n",
      "<class 'int'>\n",
      "9\n",
      "3.0\n",
      "<class 'float'>\n",
      "0.6\n"
     ]
    }
   ],
   "source": [
    "stringa:str=\"3\"\n",
    "print(stringa)\n",
    "print(type(stringa))\n",
    "\n",
    "numero:int=int(stringa)\n",
    "print(numero)\n",
    "print(type(numero))\n",
    "print(numero+6)\n",
    "\n",
    "numero_float:float=float(stringa)\n",
    "print(numero_float)\n",
    "print(type(numero_float))\n",
    "print(numero_float/5)"
   ]
  },
  {
   "cell_type": "markdown",
   "metadata": {},
   "source": [
    "# Operazioni \n",
    "Con Python possiamo eseguire le varie **operazioni matematiche** utilizzando l'operatore corretto"
   ]
  },
  {
   "cell_type": "code",
   "execution_count": 48,
   "metadata": {},
   "outputs": [
    {
     "name": "stdout",
     "output_type": "stream",
     "text": [
      "20\n",
      "10\n",
      "18\n",
      "1.5\n",
      "2\n",
      "25\n"
     ]
    }
   ],
   "source": [
    "# somma\n",
    "print(12+8)\n",
    "\n",
    "# sottrazione\n",
    "print(12-2)\n",
    "\n",
    "# prodotto\n",
    "print(6*3)\n",
    "\n",
    "# divisione\n",
    "print(3/2)\n",
    "\n",
    "# resto\n",
    "print(5%3)\n",
    "\n",
    "#potenza\n",
    "print(5**2)\n",
    "\n"
   ]
  },
  {
   "cell_type": "markdown",
   "metadata": {},
   "source": [
    "\n",
    "Gli operatori aritmetici assumono una altro significato se utilizzati con stringhe.\n",
    "Ad esempio l'operatore `+` viene utilizzato per concatenare due stringhe.\n"
   ]
  },
  {
   "cell_type": "code",
   "execution_count": 16,
   "metadata": {},
   "outputs": [
    {
     "name": "stdout",
     "output_type": "stream",
     "text": [
      "52\n",
      "<class 'str'>\n"
     ]
    }
   ],
   "source": [
    "# unire due stringhe\n",
    "stringa1:str=\"5\"\n",
    "stringa2:str=\"2\"\n",
    "risultato:str=stringa1+stringa2\n",
    "print(risultato)\n",
    "print(type(risultato))\n"
   ]
  },
  {
   "cell_type": "markdown",
   "metadata": {},
   "source": [
    "Cosa succede se moltiplichiamo una stringa per un numero intero?\n"
   ]
  },
  {
   "cell_type": "code",
   "execution_count": 53,
   "metadata": {},
   "outputs": [
    {
     "data": {
      "text/plain": [
       "'elisagianettielisagianettielisagianettielisagianettielisagianettielisagianettielisagianettielisagianettielisagianettielisagianettielisagianettielisagianettielisagianettielisagianettielisagianettielisagianettielisagianettielisagianettielisagianettielisagianettielisagianettielisagianettielisagianettielisagianettielisagianettielisagianettielisagianettielisagianettielisagianettielisagianettielisagianettielisagianettielisagianettielisagianettielisagianettielisagianettielisagianettielisagianettielisagianettielisagianettielisagianettielisagianettielisagianettielisagianettielisagianettielisagianettielisagianettielisagianettielisagianettielisagianettielisagianettielisagianettielisagianettielisagianettielisagianettielisagianettielisagianettielisagianettielisagianettielisagianettielisagianettielisagianettielisagianettielisagianettielisagianettielisagianettielisagianettielisagianettielisagianettielisagianettielisagianettielisagianettielisagianettielisagianettielisagianettielisagianettielisagianettielisagianettielisagianettielisagianettielisagianettielisagianettielisagianettielisagianettielisagianettielisagianettielisagianettielisagianettielisagianettielisagianettielisagianettielisagianettielisagianettielisagianettielisagianettielisagianettielisagianettielisagianettielisagianettielisagianetti'"
      ]
     },
     "execution_count": 53,
     "metadata": {},
     "output_type": "execute_result"
    }
   ],
   "source": [
    "\"elisagianetti\"*100\n"
   ]
  },
  {
   "cell_type": "markdown",
   "metadata": {},
   "source": [
    "Attenzione però, non tutte le operazioni sono possibili su tutti i tipi di dati. Ad esempio non è possibile sommare una stringa ad un intero."
   ]
  },
  {
   "cell_type": "code",
   "execution_count": 21,
   "metadata": {},
   "outputs": [
    {
     "ename": "TypeError",
     "evalue": "unsupported operand type(s) for +: 'int' and 'str'",
     "output_type": "error",
     "traceback": [
      "\u001b[0;31m---------------------------------------------------------------------------\u001b[0m",
      "\u001b[0;31mTypeError\u001b[0m                                 Traceback (most recent call last)",
      "Cell \u001b[0;32mIn[21], line 1\u001b[0m\n\u001b[0;32m----> 1\u001b[0m \u001b[38;5;241;43m2\u001b[39;49m\u001b[43m \u001b[49m\u001b[38;5;241;43m+\u001b[39;49m\u001b[43m \u001b[49m\u001b[38;5;124;43m\"\u001b[39;49m\u001b[38;5;124;43m3\u001b[39;49m\u001b[38;5;124;43m\"\u001b[39;49m\n",
      "\u001b[0;31mTypeError\u001b[0m: unsupported operand type(s) for +: 'int' and 'str'"
     ]
    }
   ],
   "source": [
    "2 + \"3\""
   ]
  },
  {
   "cell_type": "markdown",
   "metadata": {},
   "source": [
    "Come vedi il tentativo di sommare una parola e un numero ha causato un'errore, che in Python vengono chiamate **eccezioni**.<br> \n",
    "Ogni volta che si verifica un'eccezione Python ci mostra:\n",
    " * la riga esatta in cui si è verificato (La freccia verde)\n",
    " * il tipo di eccezone (TypeError)\n",
    " * una breve descrizione (*can only concatenate str (not \"int\") to str*)\n",
    " \n",
    "Un altro esempio di eccezione è quella che avviene se proviamo a convertire una parola in numero."
   ]
  },
  {
   "cell_type": "code",
   "execution_count": 22,
   "metadata": {},
   "outputs": [
    {
     "ename": "ValueError",
     "evalue": "could not convert string to float: 'boh'",
     "output_type": "error",
     "traceback": [
      "\u001b[0;31m---------------------------------------------------------------------------\u001b[0m",
      "\u001b[0;31mValueError\u001b[0m                                Traceback (most recent call last)",
      "Cell \u001b[0;32mIn[22], line 5\u001b[0m\n\u001b[1;32m      2\u001b[0m var \u001b[38;5;241m=\u001b[39m \u001b[38;5;124m\"\u001b[39m\u001b[38;5;124mboh\u001b[39m\u001b[38;5;124m\"\u001b[39m\n\u001b[1;32m      4\u001b[0m \u001b[38;5;66;03m# Convertiamo la variabile da intero a float\u001b[39;00m\n\u001b[0;32m----> 5\u001b[0m var \u001b[38;5;241m=\u001b[39m \u001b[38;5;28;43mfloat\u001b[39;49m\u001b[43m(\u001b[49m\u001b[43mvar\u001b[49m\u001b[43m)\u001b[49m\n\u001b[1;32m      7\u001b[0m \u001b[38;5;28mprint\u001b[39m(var)\n\u001b[1;32m      8\u001b[0m \u001b[38;5;28mprint\u001b[39m(\u001b[38;5;28mtype\u001b[39m(var))\n",
      "\u001b[0;31mValueError\u001b[0m: could not convert string to float: 'boh'"
     ]
    }
   ],
   "source": [
    "# Creiamo una variabile che contiene un intero\n",
    "var = \"boh\"\n",
    "\n",
    "# Convertiamo la variabile da intero a float\n",
    "var = float(var)\n",
    "\n",
    "print(var)\n",
    "print(type(var))"
   ]
  },
  {
   "cell_type": "markdown",
   "metadata": {},
   "source": [
    "# Operazioni sulle stringhe\n",
    "Una stringa è una sequenza di caratteri. In Python possiamo eseguire diverse operazioni su una stringa.\n",
    "Possiamo accedere ai singoli caratteri di una stringa utilizzando l'indice tra parentesi quadre.\n",
    "Attenzione però, in Python gli indici partono da 0.\n",
    "\n",
    "Per determinare la lunghezza di una stringa possiamo utilizzare la funzione `len()`\n",
    "\n",
    "Prova a modificare il valore dell'indice per vedere cosa succede.\n",
    "Si possono usare indici negativi? Cosa succede se provi ad accedere ad un indice maggiore della lunghezza della stringa?"
   ]
  },
  {
   "cell_type": "code",
   "execution_count": 59,
   "metadata": {},
   "outputs": [
    {
     "name": "stdout",
     "output_type": "stream",
     "text": [
      "15\n"
     ]
    },
    {
     "data": {
      "text/plain": [
       "'i'"
      ]
     },
     "execution_count": 59,
     "metadata": {},
     "output_type": "execute_result"
    }
   ],
   "source": [
    "stringa:str=\"necip enitsirhc\"\n",
    "lunghezza:int=len(stringa)\n",
    "\n",
    "print(lunghezza)\n",
    "\n",
    "indice=3  #Modificare questo valore per vedere il carattere corrispondente\n",
    "stringa[indice]"
   ]
  },
  {
   "cell_type": "markdown",
   "metadata": {},
   "source": [
    "È possibile anche ottenere una parte di una stringa utilizzando la sintassi `stringa[start:stop]`. Questo è chiamato slicing."
   ]
  },
  {
   "cell_type": "code",
   "execution_count": 64,
   "metadata": {},
   "outputs": [
    {
     "data": {
      "text/plain": [
       "'?'"
      ]
     },
     "execution_count": 64,
     "metadata": {},
     "output_type": "execute_result"
    }
   ],
   "source": [
    "stringa= \"ciao elisa de pietro come va la vita oggi?\"\n",
    "stringa[-1]"
   ]
  },
  {
   "cell_type": "markdown",
   "metadata": {},
   "source": [
    "Ci sono pure delle funzioni che possiamo utilizzare per manipolare le stringhe. Ad esempio la funzione `upper()` che trasforma tutti i caratteri in maiuscolo. Oppure la funzione `lower()` che trasforma tutti i caratteri in minuscolo.\n"
   ]
  },
  {
   "cell_type": "code",
   "execution_count": 30,
   "metadata": {},
   "outputs": [
    {
     "data": {
      "text/plain": [
       "'CIAO COME STAI?'"
      ]
     },
     "execution_count": 30,
     "metadata": {},
     "output_type": "execute_result"
    }
   ],
   "source": [
    "stringa:str=\"ciao come stai?\"\n",
    "stringa.upper()\n",
    "\n"
   ]
  },
  {
   "cell_type": "markdown",
   "metadata": {},
   "source": [
    "# Costruire stringhe con f-string\n",
    "A volte può essere utile costruire stringhe a partire da variabili, e Python offre un modo molto semplice per farlo: le f-string.\n",
    "\n",
    "Le f-string sono stringhe precedute dal carattere `f` (da qui il nome) e contengono delle espressioni racchiuse tra parentesi graffe `{}`. Queste espressioni vengono valutate e il loro risultato viene inserito nella stringa.\n",
    "\n",
    "Ecco un esempio:\n",
    "```python\n",
    "nome = \"Mario\"\n",
    "cognome = \"Rossi\"\n",
    "print(f\"Ciao, mi chiamo {nome} {cognome}\")"
   ]
  },
  {
   "cell_type": "code",
   "execution_count": 69,
   "metadata": {},
   "outputs": [
    {
     "name": "stdout",
     "output_type": "stream",
     "text": [
      "Ciao, mi chiamo Christine Picen\n",
      "Ciao, mi chiamo Christine e ho 15 anni\n",
      "la elly deppi di bellinzona è proprio molto pazzerella\n",
      "la ida häfli di faido in altura dorme a info\n"
     ]
    }
   ],
   "source": [
    "nome = \"Christine\"\n",
    "cognome = \"Picen\"\n",
    "print(f\"Ciao, mi chiamo {nome} {cognome}\")\n",
    "\n",
    "nome=\"Christine\"\n",
    "età= \"15\"\n",
    "print(f\"Ciao, mi chiamo {nome} e ho {età} anni\")\n",
    "\n",
    "nome= \"la elly deppi\"\n",
    "luogo= \"bellinzona\"\n",
    "cosa= \"molto pazzerella\"\n",
    "print (f\"{nome} di {luogo} è proprio {cosa}\")\n",
    "\n",
    "nome= \"la ida häfli\"\n",
    "luogo= \"faido in altura\"\n",
    "cosa= \"dorme\"\n",
    "print (f\"{nome} di {luogo} {cosa} a info\")"
   ]
  },
  {
   "cell_type": "markdown",
   "metadata": {},
   "source": [
    "# Esempio \n",
    "Un esempio di trattamento delle informazioni sulle stringhe potrebbe essere la creazione di un messaggio di benvenuto personalizzato o l'estrazione di nome e cognome da un indirizzo email.\n",
    "Se l'indirizzo email è nel formato `nome.cognome@mail.com` possiamo estrarre il nome e il cognome utilizzando il metodo `split()` e poi costruire un messaggio di benvenuto utilizzando le f-string.\n",
    "Ad esempio:\n",
    "```python   \n",
    "email = \"nome.cognome@mail.com\"\n",
    "mail = email.split(\"@\")[0]\n",
    "provider= email.split(\"@\")[1]\n",
    "```\n",
    "In questo caso `mail` conterrà `nome.cognome` e `provider` conterrà `mail.com`.\n",
    "\n",
    "Prova a modificare il  seguente  programma che chiede all'utente di inserire il proprio indirizzo email e poi stampa un messaggio di benvenuto personalizzato estraendo il nome e il cognome dall'indirizzo email.\n",
    "\n",
    "\n",
    "\n"
   ]
  },
  {
   "cell_type": "code",
   "execution_count": 35,
   "metadata": {},
   "outputs": [
    {
     "data": {
      "text/plain": [
       "'christine.picen'"
      ]
     },
     "execution_count": 35,
     "metadata": {},
     "output_type": "execute_result"
    }
   ],
   "source": [
    "mail=\"christine.picen@gmail.com\"\n",
    "mail.split(\"@\") [0]"
   ]
  },
  {
   "cell_type": "code",
   "execution_count": null,
   "metadata": {},
   "outputs": [],
   "source": [
    "input_email = input(\"Inserisci il tuo indirizzo email: (nome.cognome@mail.com)\")\n",
    "mail = input_email.split(\"@\")[0]\n",
    "provider= input_email.split(\"@\")[1]\n",
    "# nome= \n",
    "# cognome=\n",
    "\n",
    "print(f\"La tua mail è {mail} e il provider è {provider}\")\n",
    "#print(f\"Nome: {nome} Cognome: {cognome} Provider: {provider}\")"
   ]
  },
  {
   "cell_type": "markdown",
   "metadata": {},
   "source": []
  }
 ],
 "metadata": {
  "kernelspec": {
   "display_name": "Python 3 (ipykernel)",
   "language": "python",
   "name": "python3"
  }
 },
 "nbformat": 4,
 "nbformat_minor": 2
}
