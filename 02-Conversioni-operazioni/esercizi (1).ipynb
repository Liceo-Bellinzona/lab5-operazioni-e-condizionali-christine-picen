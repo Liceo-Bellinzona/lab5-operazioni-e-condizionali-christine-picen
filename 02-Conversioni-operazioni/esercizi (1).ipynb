{
 "cells": [
  {
   "cell_type": "markdown",
   "metadata": {},
   "source": [
    "# Paga lorda\n",
    "Scrivere un programma che calcoli e visualizzi la paga lorda di un dipendente a ore. I\n",
    "passaggi da seguire sono i seguenti:\n",
    "1. Ottenere il numero di ore lavorative;\n",
    "2. ottenere retribuzione oraria;\n",
    "3. moltiplicare il numero di ore lavorate per la retribuzione oraria;\n",
    "4. visualizzare il risultato del calcolo eseguito al passaggio 3."
   ]
  },
  {
   "cell_type": "code",
   "execution_count": 10,
   "metadata": {},
   "outputs": [
    {
     "name": "stdout",
     "output_type": "stream",
     "text": [
      "hai lavorato 12.5 ore per 22.8 franchi all'ora\n",
      "hai guadagnato 285.0 franchi\n"
     ]
    }
   ],
   "source": [
    "# ottieni le ore lavorative \n",
    "n_lav =float(input(\"inserisci ore lavorative\")) \n",
    "\n",
    "retribuzione_ora=float(input(\"inserisci retribuzione oraria\"))\n",
    "\n",
    "print(f\"hai lavorato {n_lav} ore per {retribuzione_ora} franchi all'ora\")\n",
    "\n",
    "print(f\"hai guadagnato {n_lav*retribuzione_ora} franchi\")"
   ]
  },
  {
   "cell_type": "markdown",
   "metadata": {},
   "source": [
    "# Calcolo della superficie\n",
    "Un acro di terra corrisponde a circa 4046 metri quadrati. Scrivere un programma che chieda\n",
    "all’utente di inserire la superficie di un terreno in metri quadrati e calcoli quindi il numero\n",
    "di acri di quel terreno."
   ]
  },
  {
   "cell_type": "code",
   "execution_count": 14,
   "metadata": {},
   "outputs": [
    {
     "name": "stdout",
     "output_type": "stream",
     "text": [
      "nel tuo terreno ci stanno 0.030400395452298567 acro\n"
     ]
    }
   ],
   "source": [
    "superficie = float(input(f\"inserisci la superficie del terreno in metri quadrati\"))\n",
    "acri=superficie/4046\n",
    "print(f\"nel tuo terreno ci stanno {acri} acro\")"
   ]
  },
  {
   "cell_type": "markdown",
   "metadata": {},
   "source": [
    "# Previsioni delle vendite \n",
    "Un’azienda ha determinato che il suo profitto annuale è tipicamente il 23% del totale delle\n",
    "vendite. \n",
    "Scrivere un programma che chieda all’utente di inserire il totale delle vendite previste e visualizzi quindi il profitto che si terrà da questa somma.\n",
    "\n",
    "*Suggerimento: non esiste il tipo di dato 23%. È necessario utilizzare gli operatori di\n",
    "moltiplicazione e divisione per ottenere la percentuale sul totale delle vendite.*\n"
   ]
  },
  {
   "cell_type": "code",
   "execution_count": 18,
   "metadata": {},
   "outputs": [
    {
     "name": "stdout",
     "output_type": "stream",
     "text": [
      "Il totale delle vendite corrisponde a 1234.5 franchi, per cui il profitto é di 283.935 franchi\n"
     ]
    }
   ],
   "source": [
    "tot_vendite : float=float(input(\"Totale delle vendite?\"))\n",
    "profitto :float=(tot_vendite/100)*23\n",
    "print(f\"Il totale delle vendite corrisponde a {tot_vendite} franchi, per cui il profitto é di {profitto} franchi\")"
   ]
  },
  {
   "cell_type": "markdown",
   "metadata": {},
   "source": [
    "# IVA \n",
    "Scrivere un programma che chieda all’utente di inserire il costo totale di un acquisto al netto\n",
    "di Iva. \n",
    "\n",
    "Si supponga che l’IVA sia pari all’8%. \n",
    "\n",
    "Il programma deve visualizzare il costo totale\n",
    "dell’acquisto al netto di IVA, l’IVA e il costo totale dell’acquisto (quindi IVA compresa)."
   ]
  },
  {
   "cell_type": "code",
   "execution_count": 24,
   "metadata": {},
   "outputs": [
    {
     "name": "stdout",
     "output_type": "stream",
     "text": [
      "il costo dell'acquisto al netto di IVA é 123.6\n",
      "l`IVA é di 9.888\n",
      "costo totale dell`acquisto 133.488\n"
     ]
    }
   ],
   "source": [
    "costo_tot = float(input(f\"inserisci il costo totale dell'acquisto \"))\n",
    "print(f\"il costo dell'acquisto al netto di IVA é {costo_tot}\")\n",
    "# Salvo il calcolo in una variabile per poterla riutilizzare !!!!!\n",
    "iva=costo_tot*8/100\n",
    "print(f\"l`IVA é di {iva}\")\n",
    "print(f\"costo totale dell`acquisto {iva+costo_tot}\")"
   ]
  },
  {
   "cell_type": "code",
   "execution_count": null,
   "metadata": {},
   "outputs": [],
   "source": []
  }
 ],
 "metadata": {
  "kernelspec": {
   "display_name": "work",
   "language": "python",
   "name": "python3"
  },
  "language_info": {
   "codemirror_mode": {
    "name": "ipython",
    "version": 3
   },
   "file_extension": ".py",
   "mimetype": "text/x-python",
   "name": "python",
   "nbconvert_exporter": "python",
   "pygments_lexer": "ipython3",
   "version": "3.10.13"
  }
 },
 "nbformat": 4,
 "nbformat_minor": 2
}
