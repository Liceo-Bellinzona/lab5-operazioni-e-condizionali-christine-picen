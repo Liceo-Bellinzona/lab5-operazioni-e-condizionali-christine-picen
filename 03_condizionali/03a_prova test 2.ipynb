{
 "cells": [
  {
   "cell_type": "markdown",
   "metadata": {},
   "source": [
    "# Classificatore per età\n",
    "  Scrivere un programma che chieda all'utente di inserire l'età di una persona. Il programma dovrebbe visualizzare un messaggio che indica se la persona è un bebè, un bambino, un teeneger o un adulto secondo le seguenti linee guida:\n",
    "  \n",
    "- Se una persona ha 1 anno o meno, è un bebè\n",
    "- Se una persona ha più di 1 anno (ma meno o uguale a 13), è un bambino\n",
    "- Se una persona ha più di 13 anni (ma meno o uguale a 20), è un teeneger\n",
    "- Se una persona ha più di 20 anni è un adulto\n",
    "\n",
    "\n",
    "1. Preparare un diagramma di flusso, che mostri i passi necessari per raggiungere l'obiettivo\n",
    "2. Tradurre il diagramma di flusso in un codice Python\n"
   ]
  },
  {
   "cell_type": "code",
   "execution_count": 2,
   "metadata": {},
   "outputs": [
    {
     "name": "stdout",
     "output_type": "stream",
     "text": [
      "Tu hai 15 anni.\n",
      "Sei un teenager.\n"
     ]
    }
   ],
   "source": [
    "età = int(input(\"Inserisci la tua età.\"))\n",
    "\n",
    "print(f\"Tu hai {età} anni.\")\n",
    "\n",
    "if età <= 1:\n",
    "    print(\"Sei un bebè.\")\n",
    "\n",
    "elif età > 1 and età <= 13:\n",
    "    print(\"Sei un bambino.\")\n",
    "\n",
    "elif età > 13 and età <= 20:\n",
    "    print(\"Sei un teenager.\")\n",
    "\n",
    "elif età > 20:\n",
    "    print(\"Sei un adulto.\")"
   ]
  },
  {
   "cell_type": "markdown",
   "metadata": {},
   "source": [
    "# Numeri romani\n",
    "Scrivere un programma che chieda all'utente di inserire un numero nell'intervallo fra 1 e 10. Il programma dovrebbe visualizzare la versione in numeri romani di quel numero. Se il numero si trova al di fuori dell'intervallo fra 1 e 10, il programma dovrebbe visualizzare un messaggio di errore. "
   ]
  },
  {
   "cell_type": "code",
   "execution_count": 3,
   "metadata": {},
   "outputs": [
    {
     "name": "stdout",
     "output_type": "stream",
     "text": [
      "Il numero che hai inserito è 4 e in numeri romani è IV\n"
     ]
    }
   ],
   "source": [
    "numero = int(input(\"Inserisci un numero intero tra 1 e 10.\"))\n",
    "\n",
    "if numero == 1:\n",
    "    print(f\"Il numero che hai inserito è {numero} e in numeri romani è I\")\n",
    "\n",
    "elif numero == 2:\n",
    "    print(f\"Il numero che hai inserito è {numero} e in numeri romani è II\")\n",
    "\n",
    "elif numero == 3:\n",
    "    print(f\"Il numero che hai inserito è {numero} e in numeri romani è III\")\n",
    "\n",
    "elif numero == 4:\n",
    "    print(f\"Il numero che hai inserito è {numero} e in numeri romani è IV\")\n",
    "\n",
    "elif numero == 5:\n",
    "    print(f\"Il numero che hai inserito è {numero} e in numeri romani è V\")\n",
    "\n",
    "elif numero == 6:\n",
    "    print(f\"Il numero che hai inserito è {numero} e in numeri romani è VI\")\n",
    "\n",
    "elif numero == 7:\n",
    "    print(f\"Il numero che hai inserito è {numero} e in numeri romani è VII\")\n",
    "\n",
    "elif numero == 8:\n",
    "    print(f\"Il numero che hai inserito è {numero} e in numeri romani è VIII\")\n",
    "\n",
    "elif numero == 9:\n",
    "    print(f\"Il numero che hai inserito è {numero} e in numeri romani è IX\")\n",
    "\n",
    "elif numero == 10:\n",
    "    print(f\"Il numero che hai inserito è {numero} e in numeri romani è X\")\n",
    "\n",
    "else:\n",
    "    print(\"Errore: il numero inserito non rispetta le condizioni richieste.\")"
   ]
  },
  {
   "cell_type": "markdown",
   "metadata": {},
   "source": [
    "# Vendite software 1\n",
    "Un'azienda di software vende un pacchetto al prezzo di 99 CHF. Possono essere fatti sconti quantità secondo questa tabella:\n",
    "\n",
    "| Quantità | Sconto |\n",
    "| ---- | ---|\n",
    "| 10-19 | 10% |\n",
    "| 20-49 | 20% |\n",
    "|50-99 | 30% |\n",
    "|100 o più | 40% |\n",
    "\n",
    "\n",
    "Scrivere un programma che chieda all'utente di immettere il numero di pacchetti acquistati. Il programma dovrebbe quindi visualizzare la percentuale di sconto da applicare."
   ]
  },
  {
   "cell_type": "code",
   "execution_count": 4,
   "metadata": {},
   "outputs": [
    {
     "name": "stdout",
     "output_type": "stream",
     "text": [
      "Hai acquistato 33 pacchetti e quindi avrai uno sconto del 20%.\n"
     ]
    }
   ],
   "source": [
    "numero_pacchetti = int(input(\"Inserisci il numero di pacchetti che hai acquistato.\"))\n",
    "\n",
    "\n",
    "if numero_pacchetti >= 10 and numero_pacchetti < 20:\n",
    "    print(f\"Hai acquistato {numero_pacchetti} pacchetti e quindi avrai uno sconto del 10%.\")\n",
    "\n",
    "elif numero_pacchetti >= 20 and numero_pacchetti < 50:\n",
    "    print(f\"Hai acquistato {numero_pacchetti} pacchetti e quindi avrai uno sconto del 20%.\")\n",
    "\n",
    "elif numero_pacchetti >= 50 and numero_pacchetti < 100:\n",
    "    print(f\"Hai acquistato {numero_pacchetti} pacchetti e quindi avrai uno sconto del 30%.\")\n",
    "\n",
    "elif numero_pacchetti >= 100:\n",
    "    print(f\"Hai acquistato {numero_pacchetti} pacchetti e quindi avrai uno sconto del 40%.\")"
   ]
  },
  {
   "cell_type": "markdown",
   "metadata": {},
   "source": [
    "# Vendita software 2\n",
    "Modificare il programma precedente in modo da visualizzare lo sconto (se c'è) e l'ammontare totale del pagamento dopo aver applicato lo sconto."
   ]
  },
  {
   "cell_type": "code",
   "execution_count": 9,
   "metadata": {},
   "outputs": [
    {
     "name": "stdout",
     "output_type": "stream",
     "text": [
      "Hai acquistato 22 pacchetti e quindi avrai uno sconto del 20%. Pagherai quindi 435.6 franchi.\n"
     ]
    }
   ],
   "source": [
    "numero_pacchetti = int(input(\"Inserisci il numero di pacchetti che hai acquistato.\"))\n",
    "costo_pacchetto: int=99\n",
    "costo_totale: int=costo_pacchetto*numero_pacchetti\n",
    "sconto_10: float=costo_totale/100*10\n",
    "sconto_20: float=costo_totale/100*20\n",
    "sconto_30: float=costo_totale/100*30\n",
    "sconto_40: float=costo_totale/100*40\n",
    "\n",
    "if numero_pacchetti >= 10 and numero_pacchetti < 20:\n",
    "    print(f\"Hai acquistato {numero_pacchetti} pacchetti e quindi avrai uno sconto del 10%. Pagherai quindi {sconto_10} franchi.\")\n",
    "\n",
    "elif numero_pacchetti >= 20 and numero_pacchetti < 50:\n",
    "    print(f\"Hai acquistato {numero_pacchetti} pacchetti e quindi avrai uno sconto del 20%. Pagherai quindi {sconto_20} franchi.\")\n",
    "\n",
    "elif numero_pacchetti >= 50 and numero_pacchetti < 100:\n",
    "    print(f\"Hai acquistato {numero_pacchetti} pacchetti e quindi avrai uno sconto del 30%. Pagherai quindi {sconto_30} franchi.\")\n",
    "\n",
    "elif numero_pacchetti >= 100:\n",
    "    print(f\"Hai acquistato {numero_pacchetti} pacchetti e quindi avrai uno sconto del 40%. Pagherai quindi {sconto_40} franchi.\")"
   ]
  },
  {
   "cell_type": "markdown",
   "metadata": {},
   "source": [
    "# Giorni mese di febbraio\n",
    "Di solito febbraio ha 28 giorni, ma se è un anno bisestile ne ha 29. Scrivere un programma che richieda all'utente di inserire un anno. Il programma deve poi visualizzare il numero dei giorni di febbraio di quell'anno. \n",
    "Per identificare gli anni bisestili utilizzare i seguenti criteri:\n",
    "\n",
    "- Determinare se l'anno sia divisibile per 100. Se lo è, è un anno bisestile se e solo se è divisibile anche per 400. Ad esempio, 2000 è un anno bisestile, 2100 non lo è\n",
    "- Se l'anno non è divisibile per 100, è bisestile se e solo se è divisibile per 4. Ad esempio, 2008 è un anno bisestile, 2009 no\n",
    "\n",
    "Il programma va scritto in due versioni:\n",
    "1. Versione 1: utilizzando un `` if`` annidato\n",
    "2. Versione 2: utilizzando gli operatori logici ``and`` , ``or`` e ``not``"
   ]
  },
  {
   "cell_type": "code",
   "execution_count": 14,
   "metadata": {},
   "outputs": [
    {
     "name": "stdout",
     "output_type": "stream",
     "text": [
      "L'anno 2000 è bisestile.\n"
     ]
    }
   ],
   "source": [
    "#versione 1\n",
    "anno = int(input(\"Inserisci un anno.\"))\n",
    "\n",
    "if anno%100 == 0:\n",
    "    if anno%400 == 0:\n",
    "        print(f\"L'anno {anno} è bisestile.\")\n",
    "    \n",
    "    else:\n",
    "        print(f\"L'anno {anno} non è bisestile.\")\n",
    "\n",
    "elif anno%4 == 0:\n",
    "    print(f\"L'anno {anno} è bisestile.\")\n",
    "\n",
    "else:\n",
    "    print(f\"L'anno {anno} non è bisestile.\")\n",
    "    \n"
   ]
  },
  {
   "cell_type": "code",
   "execution_count": 16,
   "metadata": {},
   "outputs": [
    {
     "name": "stdout",
     "output_type": "stream",
     "text": [
      "L'anno 2000 è bisestile.\n"
     ]
    }
   ],
   "source": [
    "#versione 2\n",
    "anno = int(input(\"Inserisci un anno.\"))\n",
    "\n",
    "if anno%100 == 0 and anno&400 == 0:\n",
    "    print(f\"l'anno {anno} è bisestile.\")\n",
    "\n",
    "elif anno&4 == 0:\n",
    "    print(f\"L'anno {anno} è bisestile.\")\n",
    "\n",
    "else:\n",
    "    print(f\"L'anno {anno} non è bisestile.\")"
   ]
  },
  {
   "cell_type": "markdown",
   "metadata": {},
   "source": [
    "# Indice di massa corporea\n",
    "Scrivere un programma che calcoli l'indice di massa corporea (BMI, body mass index). Il BMI viene spesso utilizzato per determinare se una persona è sovrappeso o sottopeso per la sua altezza. L'indice di massa corporea viene calcolato con questa formula: $$BMI = \\frac{peso} {altezza^{2}}$$ dove ``peso`` è espresso in chilogrammi e ``altezza`` è espressa in metri. Il programma chiede all'utente di inserire il proprio peso e la propria altezza e visualizza quindi il BMI dell'utente. Il programma dovrebbe inoltre mostrare un messaggio che informi se l'utente ha un peso ottimale, se è sottopeso o se è sovrappeso. Il peso di una persona è ottimale se il BMI è fra 18.5 e 25; se il BMI è minore di 18.5 la persona è considerata sottopeso; se invece è superiore a 25 la persona è considerata sovrappeso."
   ]
  },
  {
   "cell_type": "markdown",
   "metadata": {},
   "source": []
  }
 ],
 "metadata": {
  "kernelspec": {
   "display_name": "Python 3 (ipykernel)",
   "language": "python",
   "name": "python3"
  },
  "language_info": {
   "codemirror_mode": {
    "name": "ipython",
    "version": 3
   },
   "file_extension": ".py",
   "mimetype": "text/x-python",
   "name": "python",
   "nbconvert_exporter": "python",
   "pygments_lexer": "ipython3",
   "version": "3.10.13"
  }
 },
 "nbformat": 4,
 "nbformat_minor": 2
}
