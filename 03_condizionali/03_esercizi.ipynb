{
 "cells": [
  {
   "cell_type": "markdown",
   "metadata": {},
   "source": [
    "# Altezza\n",
    "\n",
    "Viene chiesto di scrivere un programma che chieda all'utente di fornire la sua altezza in centimetri. Se l'altezza è maggiore o uguale a 180 il programma deve stampare la seguente dicitura: ``Sei una persona molto alta``.\n",
    "\n",
    "Tradurre il diagramma di flusso in un codice Python che risolva il problema.\n"
   ]
  },
  {
   "cell_type": "code",
   "execution_count": 3,
   "metadata": {},
   "outputs": [
    {
     "name": "stdout",
     "output_type": "stream",
     "text": [
      "Sei una persona molto alta\n"
     ]
    }
   ],
   "source": [
    "altezza_utente= float(input(\"Qual è la tua altezza in centimetri?\"))\n",
    "\n",
    "if altezza_utente >= 180:\n",
    "    print(\"Sei una persona molto alta\")"
   ]
  },
  {
   "cell_type": "markdown",
   "metadata": {},
   "source": [
    "# Altezza 2\n",
    " Riprendere l'esercizio precedente ed aggiungere il codice che permetta al programma di scrivere ``Sei una persona di media altezza`` se l'altezza è inferiore a 180 cm.\n",
    "\n",
    " Tradurre il diagramma di flusso in un codice Python che risolva il problema."
   ]
  },
  {
   "cell_type": "code",
   "execution_count": 4,
   "metadata": {},
   "outputs": [
    {
     "name": "stdout",
     "output_type": "stream",
     "text": [
      "Sei una persona di media altezza\n"
     ]
    }
   ],
   "source": [
    "altezza_utente= float(input(\"Qual è la tua altezza in centimetri?\"))\n",
    "\n",
    "if altezza_utente >= 180:\n",
    "    print(\"Sei una persona molto alta\")\n",
    "print(\"Sei una persona di media altezza\")"
   ]
  },
  {
   "cell_type": "markdown",
   "metadata": {},
   "source": [
    "# Area rettangolo\n",
    "L'area di un rettangolo è uguale alla sua base per la sua altezza. Scrivere un programma che chieda la base e l'altezza di due rettangoli e successivamente indichi quale dei due rettangoli ha l'area maggiore."
   ]
  },
  {
   "cell_type": "code",
   "execution_count": 1,
   "metadata": {},
   "outputs": [
    {
     "name": "stdout",
     "output_type": "stream",
     "text": [
      "Le aree dei due rettangoli sono uguali\n",
      "L'area del rettangolo 1 è di 8.0 cm e quella del rettangolo 2 di 8.0 cm.\n"
     ]
    }
   ],
   "source": [
    "base_1 = float(input(\"Quanto misura in centimetri la base del primo rettangolo?\"))\n",
    "altezza_1 = float(input(\"Quanto misura in centimetri l'altezza del primo rettangolo?\"))\n",
    "\n",
    "base_2 = float(input(\"Quanto misura in centimetri la base del primo rettangolo?\"))\n",
    "altezza_2 = float(input(\"Quanto misura in centimetri l'altezza del primo rettangolo?\"))\n",
    "\n",
    "area_1 = float=base_1*altezza_1\n",
    "area_2 = float=base_2*altezza_2\n",
    "\n",
    "if area_1 < area_2:\n",
    "    print(\"L'area del rettangolo 2 è maggiore del rettangolo 1.\")\n",
    "\n",
    "if area_1 > area_2:\n",
    "    print(\"L'area del rettangolo 1 è maggiore del rettangolo 2.\")\n",
    "\n",
    "else:\n",
    "    print(\"Le aree dei due rettangoli sono uguali\")\n",
    "\n",
    "print(f\"L'area del rettangolo 1 è di {area_1} cm e quella del rettangolo 2 di {area_2} cm.\")\n",
    "\n",
    "\n",
    "\n"
   ]
  },
  {
   "cell_type": "markdown",
   "metadata": {},
   "source": [
    "# Pari e dispari\n",
    "Scrivere un programma che chieda all'utente di indicare un numero intero. Se il numero è pari, il programma deve visualizzare: ``Il tuo numero è pari`` , se invece il numero è dispari deve visualizzare: ``Il tuo numero è dispari``."
   ]
  },
  {
   "cell_type": "code",
   "execution_count": 5,
   "metadata": {},
   "outputs": [
    {
     "name": "stdout",
     "output_type": "stream",
     "text": [
      "Il numero che hai inserito è dispari.\n",
      "Il numero che hai inserito è 15\n"
     ]
    }
   ],
   "source": [
    "numero = int(input(\"Inserisci un numero intero\"))\n",
    "\n",
    "if numero%2 == 0:\n",
    "    print(\"Il numero che hai inserito è pari.\")\n",
    "\n",
    "else:\n",
    "    print(\"Il numero che hai inserito è dispari.\")\n",
    "\n",
    "print(f\"Il numero che hai inserito è {numero}\")"
   ]
  },
  {
   "cell_type": "markdown",
   "metadata": {},
   "source": [
    "# Password\n",
    " Scrivere un programma che chieda all'utente di inserire una password a proprio piacimento. Se la password è composta da almeno 8 caratteri il programma deve visualizzare: ``La password è stata accettata`` , altrimenti ``La password inserita è troppo corta``"
   ]
  },
  {
   "cell_type": "code",
   "execution_count": 9,
   "metadata": {},
   "outputs": [
    {
     "name": "stdout",
     "output_type": "stream",
     "text": [
      "La password è stata accettata\n"
     ]
    }
   ],
   "source": [
    "password = str(input(\"Inserisci una password\"))\n",
    "lunghezza_password= int=len(password)\n",
    "if lunghezza_password >= 8:\n",
    "    print(\"La password è stata accettata\")\n",
    "\n",
    "else:\n",
    "    print(\"La password inserita è troppo corta\")\n"
   ]
  },
  {
   "cell_type": "markdown",
   "metadata": {},
   "source": [
    "# Assegnazioni\n",
    "\n",
    "Scrivere una istruzione ``if`` che assegni 0 alla variabile ``b`` e assegni 1 alla variabile ``c``  se la variabile ``a`` è minore di 10."
   ]
  },
  {
   "cell_type": "code",
   "execution_count": 3,
   "metadata": {},
   "outputs": [
    {
     "name": "stdout",
     "output_type": "stream",
     "text": [
      "Il numero che hai inserito è minore di 10, quindi b = 0 e c = 1\n",
      "Il numero che hai inserito è 5.0\n"
     ]
    }
   ],
   "source": [
    "a=float(input(\"Inserisci un numero\"))\n",
    "\n",
    "if a <10:\n",
    "    b = 0\n",
    "    c = 1\n",
    "    print(\"Il numero che hai inserito è minore di 10, quindi b = 0 e c = 1\")\n",
    "\n",
    "print(f\"Il numero che hai inserito è {a}\")\n"
   ]
  },
  {
   "cell_type": "markdown",
   "metadata": {},
   "source": [
    "# Assegnazioni 2\n",
    "Scrivere una istruzione ``if-else `` che assegni 0 alla variabile ``b`` se la variabile ``a`` è minore di 10. In caso contrario, l'istruzione deve assegnare 99 alla variabile ``b``."
   ]
  },
  {
   "cell_type": "code",
   "execution_count": 6,
   "metadata": {},
   "outputs": [
    {
     "name": "stdout",
     "output_type": "stream",
     "text": [
      "Il numero che hai inserito è maggiore a 10, quindi b = 99\n",
      "Il numero che hai inserito è 22.0\n"
     ]
    }
   ],
   "source": [
    "a=float(input(\"Inserisci un numero\"))\n",
    "\n",
    "if a <10:\n",
    "    b = 0\n",
    "    print(\"Il numero che hai inserito è minore di 10, quindi b = 0\")\n",
    "\n",
    "else:\n",
    "    b = 99\n",
    "    print(\"Il numero che hai inserito è maggiore a 10, quindi b = 99\")\n",
    "\n",
    "print(f\"Il numero che hai inserito è {a}\")"
   ]
  }
 ],
 "metadata": {
  "kernelspec": {
   "display_name": "Python 3 (ipykernel)",
   "language": "python",
   "name": "python3"
  },
  "language_info": {
   "codemirror_mode": {
    "name": "ipython",
    "version": 3
   },
   "file_extension": ".py",
   "mimetype": "text/x-python",
   "name": "python",
   "nbconvert_exporter": "python",
   "pygments_lexer": "ipython3",
   "version": "3.10.13"
  }
 },
 "nbformat": 4,
 "nbformat_minor": 2
}
