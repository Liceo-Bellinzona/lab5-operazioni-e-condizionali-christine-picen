{
 "cells": [
  {
   "cell_type": "markdown",
   "metadata": {},
   "source": [
    "# Area triangolo\n",
    "\n",
    "Scrivere una funzione area_triangolo che accetti come argomenti la base e l’altezza di un\n",
    "triangolo e restituisce l’area del triangolo. Utilizzare la funzione in un programma stampi\n",
    "il seguente messaggio: “L’area del triangolo è XX”"
   ]
  },
  {
   "cell_type": "code",
   "execution_count": 2,
   "metadata": {},
   "outputs": [
    {
     "data": {
      "text/plain": [
       "5.0"
      ]
     },
     "execution_count": 2,
     "metadata": {},
     "output_type": "execute_result"
    }
   ],
   "source": [
    "def area_triangolo(base,altezza):\n",
    "    area_triangolo = base*altezza/2\n",
    "    return area_triangolo\n",
    "\n",
    "\n",
    "altezza_triangolo = float(input(\"Inserisci l'altezza del triangolo.\"))\n",
    "base_triangolo = float(input(\"Inserisci la base del triangolo.\"))\n",
    "\n",
    "area_triangolo (altezza_triangolo,base_triangolo)\n",
    "  \n",
    "\n",
    "\n"
   ]
  },
  {
   "cell_type": "markdown",
   "metadata": {},
   "source": [
    "# Distanza percorsa in caduta \n",
    "Quando un oggetto cade a causa della gravità, si può\n",
    "utilizzare questa formula per determinare la distanza percorsa dall’oggetto in un periodo di\n",
    "tempo specifico: $d =\\frac{1}{2}gt^2$\n",
    "\n",
    "Le variabili contenute in questa formula sono le seguenti: $d$ è la distanza in metri, $g$ è l'accelerazione di $9.8$ $\\frac{m}{s^2}$\n",
    "e $t$ è il tempo, in secondi, in cui l’oggetto è caduto.\n",
    "Scrivere una funzione denominata `falling_distance` che accetti come argomento il tempo\n",
    "di caduta dell’oggetto (espresso in secondi). La funzione dovrebbe restituire la distanza,\n",
    "espressa in metri, percorsa dall’oggetto durante l’intervallo temporale specificato."
   ]
  },
  {
   "cell_type": "code",
   "execution_count": 7,
   "metadata": {},
   "outputs": [
    {
     "data": {
      "text/plain": [
       "4.9"
      ]
     },
     "execution_count": 7,
     "metadata": {},
     "output_type": "execute_result"
    }
   ],
   "source": [
    "def falling_distance(t,g=9.8):\n",
    "    falling_distance = 1/2*g*t**2\n",
    "    return falling_distance\n",
    "\n",
    "t = int(input(\"Inserisci il tempo di caduta dell'oggetto in secondi.\"))\n",
    "\n",
    "\n",
    "falling_distance (t)"
   ]
  },
  {
   "cell_type": "markdown",
   "metadata": {},
   "source": [
    "# Massimo fra due valori\n",
    "Scrivere una funzione di nome `max`che accetti come argomenti due valori interi e restituisca\n",
    "il valore più grande dei due. \n",
    "\n",
    "Per esempio, passando alla funzione i due argomenti $7$ e\n",
    "$12$ la funzione dovrebbe restituire $12$. \n",
    "\n",
    "Utilizzare la funzione in un programma che chieda\n",
    "all’utente di inserire due valori interi. Il programma dovrebbe quindi visualizzare il valore\n",
    "più grande dei due.\n"
   ]
  },
  {
   "cell_type": "code",
   "execution_count": 9,
   "metadata": {},
   "outputs": [
    {
     "name": "stdout",
     "output_type": "stream",
     "text": [
      "9 è più grande di 3\n"
     ]
    },
    {
     "data": {
      "text/plain": [
       "<function __main__.max(a, b)>"
      ]
     },
     "execution_count": 9,
     "metadata": {},
     "output_type": "execute_result"
    }
   ],
   "source": [
    "def max(a,b):\n",
    "    if a > b:\n",
    "        print(f\"{a} è più grande di {b}\")\n",
    "    elif a < b:\n",
    "        print(f\"{b} è più grande di {a}\")\n",
    "    else:\n",
    "        print(\"I due numeri sono uguali\")\n",
    "    \n",
    "    return max\n",
    "\n",
    "a = int(input(\"Inserisci un numero intero.\"))\n",
    "b = int(input(\"Inserisci un numero intero.\"))\n",
    "\n",
    "max(a,b)"
   ]
  },
  {
   "cell_type": "markdown",
   "metadata": {},
   "source": [
    "# Ore minuti e secondi\n",
    "\n",
    "Scrivere una funzione di nome convert che accetti come argomento un numero di secondi\n",
    "e stampi il numero di ore, minuti e secondi corrispettivi."
   ]
  },
  {
   "cell_type": "code",
   "execution_count": null,
   "metadata": {},
   "outputs": [],
   "source": []
  },
  {
   "cell_type": "markdown",
   "metadata": {},
   "source": []
  },
  {
   "cell_type": "markdown",
   "metadata": {},
   "source": [
    "# Quiz matematico\n",
    "\n",
    "Scrivere un programma che ponga semplici quiz matematici di moltiplicazione, addizione\n",
    "o sottrazione. \n",
    "All’utente viene chiesto di inserire due numeri e il tipo di operazione matematica. \n",
    "\n",
    "Successivamente chiede il risultato dell’operazione all’utente e gli conferma se la\n",
    "risposta data è corretta o meno. \n",
    "Le tre operazioni richieste vanno inserite in tre funzioni:\n",
    "moltiplicazione, addizione e sottrazione.\n",
    "\n",
    "Ecco un esempio di simulazione del programma:\n",
    "\n",
    "`Inserisci il primo numero intero: 1`\n",
    "\n",
    "`Inserisci il secondo numero intero: 2`\n",
    "\n",
    "`Inserisci l’operazione da eseguire: digita 1 per moltiplicazione, 2 per addizione,\n",
    "3 per sottrazione: 2`\n",
    "\n",
    "`Quanto fa 1 + 2 ?`\n",
    "\n",
    "`Inserisci il risultato: 3`\n",
    "\n",
    "`Risposta corretta`"
   ]
  },
  {
   "cell_type": "code",
   "execution_count": null,
   "metadata": {},
   "outputs": [],
   "source": []
  }
 ],
 "metadata": {
  "kernelspec": {
   "display_name": "Python 3 (ipykernel)",
   "language": "python",
   "name": "python3"
  },
  "language_info": {
   "codemirror_mode": {
    "name": "ipython",
    "version": 3
   },
   "file_extension": ".py",
   "mimetype": "text/x-python",
   "name": "python",
   "nbconvert_exporter": "python",
   "pygments_lexer": "ipython3",
   "version": "3.10.13"
  }
 },
 "nbformat": 4,
 "nbformat_minor": 2
}
